{
 "cells": [
  {
   "attachments": {},
   "cell_type": "markdown",
   "metadata": {},
   "source": [
    "# Степенной закон\n",
    "## Импорты"
   ]
  },
  {
   "cell_type": "code",
   "execution_count": null,
   "metadata": {},
   "outputs": [],
   "source": [
    "import json\n",
    "from io import StringIO\n",
    "import pandas as pd\n",
    "import numpy as np\n",
    "import seaborn as sns\n",
    "import graph_tool as gt\n",
    "import matplotlib.pyplot as plt\n",
    "from sklearn.linear_model import LinearRegression\n",
    "from sklearn.preprocessing import PolynomialFeatures"
   ]
  },
  {
   "cell_type": "code",
   "execution_count": null,
   "metadata": {},
   "outputs": [],
   "source": [
    "sns.set_style(\"ticks\",{'axes.grid' : True})"
   ]
  },
  {
   "cell_type": "markdown",
   "metadata": {},
   "source": [
    "## Построение DataFrame из JSON"
   ]
  },
  {
   "cell_type": "code",
   "execution_count": null,
   "metadata": {},
   "outputs": [],
   "source": [
    "def to_df(read_file: str, key: str) -> pd.DataFrame:\n",
    "    with open(read_file, \"r\", encoding=\"utf8\") as f:\n",
    "        data = json.load(f)\n",
    "    buffer = StringIO(data.get(key))\n",
    "    return pd.read_csv(buffer, sep=\",\")"
   ]
  },
  {
   "cell_type": "markdown",
   "metadata": {},
   "source": [
    "## Отдельно район\n",
    "\n",
    "Изучается степенной закон внутри заданного района. Оригинальный подход их статьи."
   ]
  },
  {
   "cell_type": "code",
   "execution_count": null,
   "metadata": {},
   "outputs": [],
   "source": [
    "part_name = \"Владимирская\"\n",
    "source_file = f\"{part_name}.json\""
   ]
  },
  {
   "attachments": {},
   "cell_type": "markdown",
   "metadata": {},
   "source": [
    "### Обработка DataFrame"
   ]
  },
  {
   "cell_type": "code",
   "execution_count": null,
   "metadata": {},
   "outputs": [],
   "source": [
    "df_reversed_edges = to_df(source_file, \"reversed_edges_csv\")\n",
    "df_reversed_nodes = to_df(source_file, \"reversed_nodes_csv\")\n",
    "reversed_g = gt.Graph()\n",
    "reversed_g.add_edge_list(df_reversed_edges.loc[:, [\"src_index\", \"dest_index\"]].to_numpy())\n",
    "df_reversed_nodes[\"degree\"] = reversed_g.degree_property_map(\"out\").get_array()\n",
    "df_reversed_nodes = df_reversed_nodes[df_reversed_nodes[\"street_name\"] != \"Центральная улица\"]\n",
    "df_reversed_nodes = df_reversed_nodes[df_reversed_nodes[\"degree\"] != 0]\n",
    "degree = df_reversed_nodes[\"degree\"]"
   ]
  },
  {
   "attachments": {},
   "cell_type": "markdown",
   "metadata": {},
   "source": [
    "#### ТОП-20 улиц с наибольшей связностью"
   ]
  },
  {
   "cell_type": "code",
   "execution_count": null,
   "metadata": {},
   "outputs": [],
   "source": [
    "df_reversed_nodes.sort_values(\"degree\", ascending=False).head(20)"
   ]
  },
  {
   "attachments": {},
   "cell_type": "markdown",
   "metadata": {},
   "source": [
    "### Выборочная функция распределения"
   ]
  },
  {
   "attachments": {},
   "cell_type": "markdown",
   "metadata": {},
   "source": [
    "#### Ручное ECDF"
   ]
  },
  {
   "cell_type": "code",
   "execution_count": null,
   "metadata": {},
   "outputs": [],
   "source": [
    "def ecdf(x, log_scale=False):\n",
    "    if log_scale:\n",
    "        xs = np.log(np.sort(x))\n",
    "        ys = np.log(np.arange(1, len(xs)+1)/float(len(xs)))\n",
    "    else:\n",
    "        xs = np.sort(x)\n",
    "        ys = np.arange(1, len(xs)+1)/float(len(xs))\n",
    "    return pd.DataFrame({\"Degree\": xs, \"Proportion\": ys[::-1]})"
   ]
  },
  {
   "cell_type": "code",
   "execution_count": null,
   "metadata": {},
   "outputs": [],
   "source": [
    "df_degree = ecdf(degree.to_numpy())\n",
    "df_log_degree = ecdf(degree.to_numpy(), log_scale=True)"
   ]
  },
  {
   "attachments": {},
   "cell_type": "markdown",
   "metadata": {},
   "source": [
    "### Линейная регрессия\n",
    "\n",
    "Проверяем, возможно ли апроксимировать зависимость линейной функцией"
   ]
  },
  {
   "cell_type": "code",
   "execution_count": null,
   "metadata": {},
   "outputs": [],
   "source": [
    "lr = LinearRegression().fit(df_log_degree[\"Degree\"].to_numpy().reshape(-1, 1), df_log_degree[\"Proportion\"])\n",
    "c_l = lr.coef_[0]\n",
    "i_l = lr.intercept_\n",
    "x_start = df_log_degree[\"Degree\"].iloc[0]\n",
    "x_end = df_log_degree[\"Degree\"].iloc[-1]\n",
    "x_lr = [x_start, x_end]\n",
    "y_lr = lr.predict(np.array([[x_start],[x_end]]))"
   ]
  },
  {
   "attachments": {},
   "cell_type": "markdown",
   "metadata": {},
   "source": [
    "### Полиномиальная регрессия (квадратичная)\n",
    "\n",
    "Проверяем, возможно ли апроксимировать зависимость квадратичной функцией"
   ]
  },
  {
   "cell_type": "code",
   "execution_count": null,
   "metadata": {},
   "outputs": [],
   "source": [
    "X = PolynomialFeatures(2).fit_transform(df_log_degree[\"Degree\"].to_numpy().reshape(-1, 1))\n",
    "pr = LinearRegression().fit(X, df_log_degree[\"Proportion\"])\n",
    "c_p = pr.coef_[1:]\n",
    "i_p = pr.intercept_\n",
    "x_pr = np.linspace(x_start, x_end, 20)\n",
    "X_poly_features = PolynomialFeatures(2).fit_transform(x_pr.reshape(-1, 1))\n",
    "y_pr = pr.predict(X_poly_features)"
   ]
  },
  {
   "attachments": {},
   "cell_type": "markdown",
   "metadata": {},
   "source": [
    "### Отрисовка"
   ]
  },
  {
   "cell_type": "code",
   "execution_count": null,
   "metadata": {},
   "outputs": [],
   "source": [
    "fig, ax = plt.subplots(2, 1, figsize=(8, 9))\n",
    "fig.subplots_adjust(hspace=0.4)\n",
    "\n",
    "x_linspace = np.linspace(1, df_degree[\"Degree\"].max())\n",
    "sns.lineplot(ax=ax[0], data=df_degree, x=\"Degree\", y=\"Proportion\", label=\"Фактическая\", errorbar=None)\n",
    "label = \"Теоретическая $\\\\frac{1}{x^{\" + str(-round(c_l, 5)) + \"}}$\"\n",
    "sns.lineplot(ax=ax[0], x=x_linspace, y=x_linspace**c_l, label=label, errorbar=None)\n",
    "ax[0].set_title(\"Стандартный\")\n",
    "\n",
    "sns.lineplot(ax=ax[1], data=df_log_degree, x=\"Degree\", y=\"Proportion\", label=\"Исходное\", errorbar=None)\n",
    "sns.lineplot(ax=ax[1], x=x_lr, y=y_lr, label=f\"Линейная регрессия {c_l:.3f}*x + {i_l:.3f}\", errorbar=None)\n",
    "sns.lineplot(ax=ax[1], x=x_pr, y=y_pr, label=f\"Квадратичная регрессия {c_p[1]:.3f}*x^2 + {c_p[0]:.3f}*x + {i_p:.3f}\", errorbar=None)\n",
    "ax[1].set_title(\"LogLog\")"
   ]
  },
  {
   "attachments": {},
   "cell_type": "markdown",
   "metadata": {},
   "source": [
    "### Seaborn\n",
    "\n",
    "Попытка отрисовать графики с использованием методов Seaborn. Лучше его не использовать"
   ]
  },
  {
   "cell_type": "code",
   "execution_count": null,
   "metadata": {},
   "outputs": [],
   "source": [
    "fig, ax = plt.subplots(2, 1, figsize=(8, 9))\n",
    "fig.subplots_adjust(hspace=0.4)\n",
    "\n",
    "sns.ecdfplot(ax=ax[0], data = df_reversed_nodes, x=\"degree\", complementary=True)\n",
    "ax[0].set_title(\"Стандартный\")\n",
    "\n",
    "sns.ecdfplot(ax=ax[1], data = df_reversed_nodes, x=\"degree\", complementary=True, log_scale=True)\n",
    "ax[1].set_title(\"LogLog\")"
   ]
  },
  {
   "cell_type": "markdown",
   "metadata": {},
   "source": [
    "## Район в контексте города\n",
    "\n",
    "Изучается степенной закон для улиц заданного района, но их степени берутся на уровне всего города. Данный подход рассматривался на уровне идеи."
   ]
  },
  {
   "cell_type": "markdown",
   "metadata": {},
   "source": [
    "### Обработка DataFrame"
   ]
  },
  {
   "cell_type": "code",
   "execution_count": null,
   "metadata": {},
   "outputs": [],
   "source": [
    "city_name = \"СПб\"\n",
    "city_file = f\"{city_name}.json\""
   ]
  },
  {
   "cell_type": "code",
   "execution_count": null,
   "metadata": {},
   "outputs": [],
   "source": [
    "df_reversed_edges = to_df(city_file, \"reversed_edges_csv\")\n",
    "df_reversed_nodes = to_df(city_file, \"reversed_nodes_csv\")\n",
    "reversed_g = gt.Graph()\n",
    "reversed_g.add_edge_list(df_reversed_edges.loc[:, [\"src_index\", \"dest_index\"]].to_numpy())\n",
    "df_reversed_nodes[\"degree\"] = reversed_g.degree_property_map(\"out\").get_array()\n",
    "df_reversed_nodes = df_reversed_nodes[df_reversed_nodes[\"street_name\"] != \"Центральная улица\"]\n",
    "df_reversed_nodes = df_reversed_nodes[df_reversed_nodes[\"degree\"] != 0]"
   ]
  },
  {
   "cell_type": "markdown",
   "metadata": {},
   "source": [
    "### Отбор улиц, принадлежащих району"
   ]
  },
  {
   "cell_type": "code",
   "execution_count": null,
   "metadata": {},
   "outputs": [],
   "source": [
    "df_reversed_nodes_part = to_df(source_file, \"reversed_nodes_csv\")\n",
    "df_reversed_nodes = df_reversed_nodes.loc[df_reversed_nodes[\"street_name\"].isin(df_reversed_nodes_part[\"street_name\"])]\n",
    "\n",
    "degree = df_reversed_nodes[\"degree\"]"
   ]
  },
  {
   "cell_type": "markdown",
   "metadata": {},
   "source": [
    "#### ТОП-20 улиц с наибольшей связностью"
   ]
  },
  {
   "cell_type": "code",
   "execution_count": null,
   "metadata": {},
   "outputs": [],
   "source": [
    "df_reversed_nodes.sort_values(\"degree\", ascending=False).head(20)"
   ]
  },
  {
   "cell_type": "markdown",
   "metadata": {},
   "source": [
    "### Выборочная функция распределения"
   ]
  },
  {
   "cell_type": "code",
   "execution_count": null,
   "metadata": {},
   "outputs": [],
   "source": [
    "df_degree = ecdf(degree.to_numpy())\n",
    "df_log_degree = ecdf(degree.to_numpy(), log_scale=True)"
   ]
  },
  {
   "cell_type": "markdown",
   "metadata": {},
   "source": [
    "### Линейная регрессия"
   ]
  },
  {
   "cell_type": "code",
   "execution_count": null,
   "metadata": {},
   "outputs": [],
   "source": [
    "lr = LinearRegression().fit(df_log_degree[\"Degree\"].to_numpy().reshape(-1, 1), df_log_degree[\"Proportion\"])\n",
    "c_l = lr.coef_[0]\n",
    "i_l = lr.intercept_\n",
    "x_start = df_log_degree[\"Degree\"].iloc[0]\n",
    "x_end = df_log_degree[\"Degree\"].iloc[-1]\n",
    "x_lr = [x_start, x_end]\n",
    "y_lr = lr.predict(np.array([[x_start],[x_end]]))"
   ]
  },
  {
   "cell_type": "markdown",
   "metadata": {},
   "source": [
    "### Квадратичная регрессия"
   ]
  },
  {
   "cell_type": "code",
   "execution_count": null,
   "metadata": {},
   "outputs": [],
   "source": [
    "X = PolynomialFeatures(2).fit_transform(df_log_degree[\"Degree\"].to_numpy().reshape(-1, 1))\n",
    "pr = LinearRegression().fit(X, df_log_degree[\"Proportion\"])\n",
    "c_p = pr.coef_[1:]\n",
    "i_p = pr.intercept_\n",
    "x_pr = np.linspace(x_start, x_end, 20)\n",
    "X_poly_features = PolynomialFeatures(2).fit_transform(x_pr.reshape(-1, 1))\n",
    "y_pr = pr.predict(X_poly_features)"
   ]
  },
  {
   "cell_type": "markdown",
   "metadata": {},
   "source": [
    "### Отрисовка"
   ]
  },
  {
   "cell_type": "code",
   "execution_count": null,
   "metadata": {},
   "outputs": [],
   "source": [
    "fig, ax = plt.subplots(2, 1, figsize=(8, 9))\n",
    "fig.subplots_adjust(hspace=0.4)\n",
    "\n",
    "x_linspace = np.linspace(1, df_degree[\"Degree\"].max())\n",
    "sns.lineplot(ax=ax[0], data=df_degree, x=\"Degree\", y=\"Proportion\", label=\"Фактическая\", errorbar=None)\n",
    "label = \"Теоретическая $\\\\frac{1}{x^{\" + str(-round(c_l, 5)) + \"}}$\"\n",
    "sns.lineplot(ax=ax[0], x=x_linspace, y=x_linspace**c_l, label=label, errorbar=None)\n",
    "ax[0].set_title(\"Стандартный\")\n",
    "\n",
    "sns.lineplot(ax=ax[1], data=df_log_degree, x=\"Degree\", y=\"Proportion\", label=\"Исходное\", errorbar=None)\n",
    "sns.lineplot(ax=ax[1], x=x_lr, y=y_lr, label=f\"Линейная регрессия {c_l:.3f}*x + {i_l:.3f}\", errorbar=None)\n",
    "sns.lineplot(ax=ax[1], x=x_pr, y=y_pr, label=f\"Квадратичная регрессия {c_p[1]:.3f}*x^2 + {c_p[0]:.3f}*x + {i_p:.3f}\", errorbar=None)\n",
    "ax[1].set_title(\"LogLog\")"
   ]
  }
 ],
 "metadata": {
  "kernelspec": {
   "display_name": "Python 3",
   "language": "python",
   "name": "python3"
  },
  "language_info": {
   "codemirror_mode": {
    "name": "ipython",
    "version": 3
   },
   "file_extension": ".py",
   "mimetype": "text/x-python",
   "name": "python",
   "nbconvert_exporter": "python",
   "pygments_lexer": "ipython3",
   "version": "3.11.3"
  },
  "orig_nbformat": 4
 },
 "nbformat": 4,
 "nbformat_minor": 2
}
