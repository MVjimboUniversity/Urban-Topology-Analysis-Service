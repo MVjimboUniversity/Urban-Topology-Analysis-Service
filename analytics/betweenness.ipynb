{
 "cells": [
  {
   "cell_type": "markdown",
   "metadata": {},
   "source": [
    "# Betweenness"
   ]
  },
  {
   "cell_type": "markdown",
   "metadata": {},
   "source": [
    "## Импорты"
   ]
  },
  {
   "cell_type": "code",
   "execution_count": null,
   "metadata": {},
   "outputs": [],
   "source": [
    "import json\n",
    "from io import StringIO\n",
    "import pandas as pd\n",
    "import numpy as np\n",
    "import seaborn as sns\n",
    "import graph_tool as gt\n",
    "from graph_tool.centrality import betweenness\n",
    "import matplotlib.pyplot as plt\n",
    "from sklearn.linear_model import LinearRegression\n",
    "from sklearn.preprocessing import PolynomialFeatures"
   ]
  },
  {
   "cell_type": "code",
   "execution_count": null,
   "metadata": {},
   "outputs": [],
   "source": [
    "sns.set_style(\"ticks\",{'axes.grid' : True})"
   ]
  },
  {
   "cell_type": "code",
   "execution_count": null,
   "metadata": {},
   "outputs": [],
   "source": [
    "def to_df(read_file: str, key: str) -> pd.DataFrame:\n",
    "    with open(read_file, \"r\", encoding=\"utf8\") as f:\n",
    "        data = json.load(f)\n",
    "    buffer = StringIO(data.get(key))\n",
    "    return pd.read_csv(buffer, sep=\",\")"
   ]
  },
  {
   "cell_type": "code",
   "execution_count": null,
   "metadata": {},
   "outputs": [],
   "source": [
    "part_name = \"Адмиралтейский\"\n",
    "source_file = f\"{part_name}.json\""
   ]
  },
  {
   "cell_type": "markdown",
   "metadata": {},
   "source": [
    "## Работа с DataFrame"
   ]
  },
  {
   "cell_type": "code",
   "execution_count": null,
   "metadata": {},
   "outputs": [],
   "source": [
    "df_edges = to_df(source_file, \"edges_csv\")\n",
    "df_nodes = to_df(source_file, \"points_csv\")"
   ]
  },
  {
   "cell_type": "code",
   "execution_count": null,
   "metadata": {},
   "outputs": [],
   "source": [
    "df_nodes"
   ]
  },
  {
   "cell_type": "code",
   "execution_count": null,
   "metadata": {},
   "outputs": [],
   "source": [
    "df_nodes = df_nodes.reset_index()\n",
    "df_edges = df_edges.join(df_nodes[[\"id\", \"index\"]].set_index(\"id\"), on=\"source\")\n",
    "df_edges = df_edges.rename(columns={\"index\": \"src_idx\"})\n",
    "df_edges = df_edges.join(df_nodes[[\"id\", \"index\"]].set_index(\"id\"), on=\"target\")\n",
    "df_edges = df_edges.rename(columns={\"index\": \"trg_idx\"})"
   ]
  },
  {
   "cell_type": "markdown",
   "metadata": {},
   "source": [
    "## Ищем betweenness"
   ]
  },
  {
   "cell_type": "code",
   "execution_count": null,
   "metadata": {},
   "outputs": [],
   "source": [
    "g = gt.Graph()\n",
    "g.add_edge_list(df_edges.loc[:, [\"src_idx\", \"trg_idx\"]].to_numpy())\n",
    "weight = g.new_edge_property(\"double\", vals=df_edges[\"weight\"])\n",
    "vp, ep = betweenness(g, weight=weight)\n",
    "df_nodes[\"bw\"] = vp.get_array()"
   ]
  },
  {
   "cell_type": "markdown",
   "metadata": {},
   "source": [
    "## Присоединяем названия улиц"
   ]
  },
  {
   "cell_type": "code",
   "execution_count": null,
   "metadata": {},
   "outputs": [],
   "source": [
    "df_way_properties = to_df(source_file, \"ways_properties_csv\")"
   ]
  },
  {
   "cell_type": "code",
   "execution_count": null,
   "metadata": {},
   "outputs": [],
   "source": [
    "df_way_properties[df_way_properties[\"property\"] == \"name\"]"
   ]
  },
  {
   "cell_type": "code",
   "execution_count": null,
   "metadata": {},
   "outputs": [],
   "source": [
    "df_way_names = df_way_properties[df_way_properties[\"property\"] == \"name\"].reset_index()"
   ]
  },
  {
   "cell_type": "code",
   "execution_count": null,
   "metadata": {},
   "outputs": [],
   "source": [
    "df_bw = df_nodes.join(df_edges[[\"source\", \"id_way\"]].set_index(\"source\"), on=\"id\").loc[:, [\"id_way\", \"bw\"]]\n",
    "# df_bw = pd.concat([ df_bw, df_nodes.join(df_edges[[\"target\", \"id_way\"]].set_index(\"target\"), on=\"id\").loc[:, [\"id_way\", \"bw\"]] ])\n",
    "df_bw = df_bw.join(df_way_names.set_index(\"id\"), on=\"id_way\", how=\"inner\").loc[:, [\"value\", \"bw\"]]\n",
    "df_bw.groupby(by=\"value\", as_index=False).sum().sort_values(by=\"bw\", ascending=False)"
   ]
  }
 ],
 "metadata": {
  "kernelspec": {
   "display_name": "Python 3",
   "language": "python",
   "name": "python3"
  },
  "language_info": {
   "codemirror_mode": {
    "name": "ipython",
    "version": 3
   },
   "file_extension": ".py",
   "mimetype": "text/x-python",
   "name": "python",
   "nbconvert_exporter": "python",
   "pygments_lexer": "ipython3",
   "version": "3.11.3"
  },
  "orig_nbformat": 4
 },
 "nbformat": 4,
 "nbformat_minor": 2
}
