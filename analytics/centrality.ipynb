{
 "cells": [
  {
   "cell_type": "markdown",
   "metadata": {},
   "source": [
    "# Средняя длинна пути и коэффициент кластеризации\n",
    "\n",
    "## Импорты"
   ]
  },
  {
   "cell_type": "code",
   "execution_count": 21,
   "metadata": {},
   "outputs": [],
   "source": [
    "import json\n",
    "from io import StringIO\n",
    "import pandas as pd\n",
    "import numpy as np\n",
    "import seaborn as sns\n",
    "import graph_tool as gt\n",
    "import matplotlib.pyplot as plt\n",
    "from sklearn.linear_model import LinearRegression\n",
    "from sklearn.preprocessing import PolynomialFeatures\n",
    "from graph_tool.topology import shortest_distance\n",
    "from graph_tool.clustering import local_clustering"
   ]
  },
  {
   "cell_type": "code",
   "execution_count": 2,
   "metadata": {},
   "outputs": [],
   "source": [
    "def to_df(read_file: str, key: str) -> pd.DataFrame:\n",
    "    with open(read_file, \"r\", encoding=\"utf8\") as f:\n",
    "        data = json.load(f)\n",
    "    buffer = StringIO(data.get(key))\n",
    "    return pd.read_csv(buffer, sep=\",\")"
   ]
  },
  {
   "cell_type": "code",
   "execution_count": 196,
   "metadata": {},
   "outputs": [],
   "source": [
    "part_name = \"СПб\"\n",
    "source_file = f\"{part_name}.json\""
   ]
  },
  {
   "cell_type": "markdown",
   "metadata": {},
   "source": [
    "## Работа с DataFrame"
   ]
  },
  {
   "cell_type": "code",
   "execution_count": 197,
   "metadata": {},
   "outputs": [],
   "source": [
    "df_reversed_edges = to_df(source_file, \"reversed_edges_csv\")\n",
    "df_reversed_nodes = to_df(source_file, \"reversed_nodes_csv\")\n",
    "reversed_g = gt.Graph()\n",
    "reversed_g.add_edge_list(df_reversed_edges.loc[:, [\"src_index\", \"dest_index\"]].to_numpy())"
   ]
  },
  {
   "cell_type": "markdown",
   "metadata": {},
   "source": [
    "## Средняя длина пути"
   ]
  },
  {
   "cell_type": "code",
   "execution_count": 198,
   "metadata": {},
   "outputs": [],
   "source": [
    "shortest_distances = shortest_distance(reversed_g, directed=True)"
   ]
  },
  {
   "cell_type": "code",
   "execution_count": 199,
   "metadata": {},
   "outputs": [],
   "source": [
    "sum_g = 0.\n",
    "count_g = 0\n",
    "for vertex in reversed_g.vertices():\n",
    "    count_v = np.count_nonzero(shortest_distances[vertex].a != 2147483647)\n",
    "    sum_v = np.sum(shortest_distances[vertex].a[shortest_distances[vertex].a != 2147483647])\n",
    "    sum_g += sum_v\n",
    "    count_g += count_v - 1\n",
    "avg_g = sum_g / count_g\n",
    "n = len(reversed_g.get_vertices())"
   ]
  },
  {
   "cell_type": "markdown",
   "metadata": {},
   "source": [
    "## Коэффициент кластеризации"
   ]
  },
  {
   "cell_type": "code",
   "execution_count": 200,
   "metadata": {},
   "outputs": [],
   "source": [
    "cc = local_clustering(reversed_g, undirected=False)\n",
    "cc_g = np.sum(cc.a) / n"
   ]
  },
  {
   "cell_type": "markdown",
   "metadata": {},
   "source": [
    "## Степень"
   ]
  },
  {
   "cell_type": "code",
   "execution_count": 201,
   "metadata": {},
   "outputs": [],
   "source": [
    "d = reversed_g.degree_property_map(\"out\")\n",
    "d_g = np.sum(d.a) / n"
   ]
  },
  {
   "cell_type": "markdown",
   "metadata": {},
   "source": [
    "## Запись в файл\n",
    "\n",
    "В итоге получаем csv-файл, по структуре напоминающий таблицу из оригинальной статьи."
   ]
  },
  {
   "cell_type": "code",
   "execution_count": 203,
   "metadata": {},
   "outputs": [],
   "source": [
    "with open(\"small_world.csv\", \"a\") as f:\n",
    "    l_random = np.log(n) / np.log(d_g)\n",
    "    c_random = d_g / n\n",
    "    f.writelines(f\"{part_name},{n},{d_g:.2f},{avg_g:.2f},{cc_g:.2f},{l_random:.2f},{c_random:.4f}\\n\")"
   ]
  }
 ],
 "metadata": {
  "kernelspec": {
   "display_name": "Python 3",
   "language": "python",
   "name": "python3"
  },
  "language_info": {
   "codemirror_mode": {
    "name": "ipython",
    "version": 3
   },
   "file_extension": ".py",
   "mimetype": "text/x-python",
   "name": "python",
   "nbconvert_exporter": "python",
   "pygments_lexer": "ipython3",
   "version": "3.11.3"
  },
  "orig_nbformat": 4
 },
 "nbformat": 4,
 "nbformat_minor": 2
}
